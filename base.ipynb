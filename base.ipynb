{
 "cells": [
  {
   "cell_type": "code",
   "execution_count": null,
   "metadata": {
    "colab": {
     "base_uri": "https://localhost:8080/"
    },
    "id": "EoNxgxtu2NXv",
    "outputId": "2dcaff9a-7d83-483c-cb11-2cbebe146f3b"
   },
   "outputs": [
    {
     "name": "stdout",
     "output_type": "stream",
     "text": [
      "Mounted at /content/gdrive\n"
     ]
    }
   ],
   "source": [
    "from google.colab import drive\n",
    "drive.mount('/content/gdrive')"
   ]
  },
  {
   "cell_type": "code",
   "execution_count": null,
   "metadata": {
    "id": "U-6nLSxH6kIm"
   },
   "outputs": [],
   "source": [
    "!rm -rf /content/gdrive/MyDrive/images/\n",
    "!unzip -q /content/gdrive/MyDrive/i.zip -d /content/gdrive/MyDrive/"
   ]
  },
  {
   "cell_type": "code",
   "execution_count": 1,
   "metadata": {
    "id": "KoRr8xw5254t"
   },
   "outputs": [],
   "source": [
    "from functools import lru_cache\n",
    "import logging\n",
    "import torch\n",
    "import numpy as np\n",
    "from torch.utils.data.sampler import SubsetRandomSampler\n",
    "class DataSplit:\n",
    "    def __init__(self, dataset, test_train_split=0.8, val_train_split=0.1, shuffle=False):\n",
    "        self.dataset = dataset\n",
    "        \n",
    "        dataset_size = len(dataset)\n",
    "\n",
    "        self.indices = list(range(dataset_size))\n",
    "        test_split = int(np.floor(test_train_split * dataset_size))\n",
    "\n",
    "        if shuffle:\n",
    "            np.random.shuffle(self.indices)\n",
    "\n",
    "        train_indices, self.test_indices = self.indices[:test_split], self.indices[test_split:]\n",
    "        train_size = len(train_indices)\n",
    "        validation_split = int(np.floor((1 - val_train_split) * train_size))\n",
    "\n",
    "        self.train_indices, self.val_indices = train_indices[ : validation_split], train_indices[validation_split:]\n",
    "\n",
    "        self.train_sampler = SubsetRandomSampler(self.train_indices)\n",
    "        self.val_sampler = SubsetRandomSampler(self.val_indices)\n",
    "        self.test_sampler = SubsetRandomSampler(self.test_indices)\n",
    "\n",
    "    def get_train_split_point(self):\n",
    "        return len(self.train_sampler) + len(self.val_indices)\n",
    "\n",
    "    def get_validation_split_point(self):\n",
    "        return len(self.train_sampler)\n",
    "\n",
    "    @lru_cache(maxsize=4)\n",
    "    def get_split(self, batch_size=50, num_workers=4):\n",
    "        logging.debug('Initializing train-validation-test dataloaders')\n",
    "        self.train_loader = self.get_train_loader(batch_size=batch_size, num_workers=num_workers)\n",
    "        self.val_loader = self.get_validation_loader(batch_size=batch_size, num_workers=num_workers)\n",
    "        self.test_loader = self.get_test_loader(batch_size=batch_size, num_workers=num_workers)\n",
    "        return self.train_loader, self.val_loader, self.test_loader\n",
    "\n",
    "    @lru_cache(maxsize=4)\n",
    "    def get_train_loader(self, batch_size=50, num_workers=4):\n",
    "        logging.debug('Initializing train dataloader')\n",
    "\n",
    "        self.train_loader = torch.utils.data.DataLoader(self.dataset, batch_size=batch_size, sampler=self.train_sampler, shuffle=False, num_workers=num_workers)\n",
    "        return self.train_loader\n",
    "\n",
    "    @lru_cache(maxsize=4)\n",
    "    def get_validation_loader(self, batch_size=50, num_workers=4):\n",
    "        logging.debug('Initializing validation dataloader')\n",
    "\n",
    "        self.val_loader = torch.utils.data.DataLoader(self.dataset, batch_size=batch_size, sampler=self.val_sampler, shuffle=False, num_workers=num_workers)\n",
    "        return self.val_loader\n",
    "\n",
    "    @lru_cache(maxsize=4)\n",
    "    def get_test_loader(self, batch_size=50, num_workers=4):\n",
    "        logging.debug('Initializing test dataloader')\n",
    "\n",
    "        self.test_loader = torch.utils.data.DataLoader(self.dataset, batch_size=batch_size, sampler=self.test_sampler, shuffle=False, num_workers=num_workers)\n",
    "        return self.test_loader"
   ]
  },
  {
   "cell_type": "code",
   "execution_count": 2,
   "metadata": {
    "id": "pWcMfsym0d7a"
   },
   "outputs": [],
   "source": [
    "import torch\n",
    "import torch.nn as nn\n",
    "import torch.nn.functional as F\n",
    "import time\n",
    "import torch.optim as optim\n",
    "import numpy as np\n",
    "import pickle\n",
    "import torch.multiprocessing\n",
    "import os\n",
    "from os import listdir\n",
    "torch.multiprocessing.set_sharing_strategy('file_system')\n",
    "torch.manual_seed(1)\n",
    "\n",
    "import torchvision.transforms as transforms\n",
    "import torchvision.models\n",
    "ImageFolder = torchvision.datasets.ImageFolder\n",
    "DataLoader = torch.utils.data.DataLoader\n",
    "\n",
    "\n",
    "path = 'foodcombined/food-101-original/images'\n",
    "device = torch.device(\"cuda:0\" if torch.cuda.is_available() else \"cpu\")\n",
    "\n",
    "from os import listdir\n",
    "from os.path import isfile, join\n",
    "classes = [f for f in listdir(path)]\n",
    "classes.sort()\n",
    "\n",
    "\n",
    "def get_model_name(name, batch_size, learning_rate, epoch):\n",
    "    \"\"\" Generate a name for the model consisting of all the hyperparameter values\n",
    "\n",
    "    Args:\n",
    "        config: Configuration object containing the hyperparameters\n",
    "    Returns:\n",
    "        path: A string with the hyperparameter name and value concatenated\n",
    "    \"\"\"\n",
    "    path = \"model_{0}_bs{1}_lr{2}_epoch{3}\".format(name,\n",
    "                                                   batch_size,\n",
    "                                                   learning_rate,\n",
    "                                                   epoch)\n",
    "    return path\n",
    "\n",
    "\n",
    "def evaluate(net, loader, criterion):\n",
    "    total_loss = 0.0\n",
    "    total_acc = 0.0\n",
    "    total_epoch = 0\n",
    "    for i, data in enumerate(loader, 0):\n",
    "        inputs, labels = data\n",
    "        inputs = inputs.to(device)\n",
    "        labels = labels.to(device)\n",
    "        outputs = net(inputs)\n",
    "        loss = criterion(outputs, labels)\n",
    "        pred = outputs.data.max(1, keepdim=True)[1]\n",
    "        total_acc += pred.eq(labels.data.view_as(pred)).sum()\n",
    "        total_loss += loss.item()\n",
    "        total_epoch += len(labels)\n",
    "    acc = float(total_acc) / total_epoch\n",
    "    loss = float(total_loss) / (i + 1)\n",
    "    return acc, loss\n",
    "\n",
    "\n",
    "def plot_training_curve(path, num_epoch):\n",
    "    \"\"\" Plots the training curve for a model run, given the csv files\n",
    "    containing the train/validation error/loss.\n",
    "\n",
    "    Args:\n",
    "        path: The base path of the csv files produced during training\n",
    "    \"\"\"\n",
    "    import matplotlib.pyplot as plt\n",
    "    train_err = np.loadtxt(\"{}_train_acc.csv\".format(path))\n",
    "    val_err = np.loadtxt(\"{}_val_acc.csv\".format(path))\n",
    "    train_loss = np.loadtxt(\"{}_train_loss.csv\".format(path))\n",
    "    val_loss = np.loadtxt(\"{}_val_loss.csv\".format(path))\n",
    "    plt.title(\"Train vs Validation Accuracy\")\n",
    "    n = num_epoch  # number of epochs\n",
    "    train_err = train_err[:num_epoch]\n",
    "    val_err = val_err[:num_epoch]\n",
    "    train_loss = train_loss[:num_epoch]\n",
    "    val_loss = val_loss[:num_epoch]\n",
    "    plt.plot(range(1, n + 1), train_err, label=\"Train\")\n",
    "    plt.plot(range(1, n + 1), val_err, label=\"Validation\")\n",
    "    plt.xlabel(\"Epoch\")\n",
    "    plt.ylabel(\"Accuracy\")\n",
    "    plt.legend(loc='best')\n",
    "    plt.show()\n",
    "    plt.title(\"Train vs Validation Loss\")\n",
    "    plt.plot(range(1, n + 1), train_loss, label=\"Train\")\n",
    "    plt.plot(range(1, n + 1), val_loss*9, label=\"Validation\")\n",
    "    plt.xlabel(\"Epoch\")\n",
    "    plt.ylabel(\"Loss\")\n",
    "    plt.legend(loc='best')\n",
    "    plt.show()"
   ]
  },
  {
   "cell_type": "code",
   "execution_count": null,
   "metadata": {},
   "outputs": [],
   "source": []
  },
  {
   "cell_type": "code",
   "execution_count": 16,
   "metadata": {},
   "outputs": [
    {
     "data": {
      "image/png": "[encoded data removed]",
      "text/plain": [
       "<Figure size 432x288 with 1 Axes>"
      ]
     },
     "metadata": {
      "needs_background": "light"
     },
     "output_type": "display_data"
    },
    {
     "data": {
      "image/png": "[encoded data removed]",
      "text/plain": [
       "<Figure size 432x288 with 1 Axes>"
      ]
     },
     "metadata": {
      "needs_background": "light"
     },
     "output_type": "display_data"
    }
   ],
   "source": [
    "plot_training_curve('third20',20)"
   ]
  },
  {
   "cell_type": "code",
   "execution_count": null,
   "metadata": {
    "colab": {
     "base_uri": "https://localhost:8080/",
     "height": 583,
     "referenced_widgets": [
      "0c4e5421bf164c9fafe3aaa68a0de580",
      "d5d45f6c670b4dca958096e8a6f0d340",
      "5b07559c5b804290a2ababe919d843f1",
      "281222b9e3d64b448f8c8679d30dfe56",
      "11af445107974deb8ebc3b46085db5df",
      "2947211387a74e489fd56b818ce5a1f3",
      "822effb14bd44d169c59864c8b53c499",
      "a512914b11fe4e3c913d447d80052a0c"
     ]
    },
    "id": "1etCQ_vG0d7d",
    "outputId": "513a8f4f-ef27-49bf-bb1c-d244c8d1ffb2"
   },
   "outputs": [],
   "source": [
    "alexnet = torchvision.models.alexnet(pretrained=True)\n",
    "for param in alexnet.parameters():\n",
    "    param.requires_grad = False\n",
    "alexnet.classifier = nn.Sequential(\n",
    "                      nn.Linear(256*6*6, 2048), \n",
    "                      nn.ReLU(), \n",
    "                      nn.Dropout(0.4),\n",
    "                      nn.Linear(2048, 512),\n",
    "    nn.ReLU(),\n",
    "    nn.Linear(512,256),\n",
    "    nn.ReLU(),\n",
    "                      nn.Linear(256, 101))\n",
    "alexnet.to(device)\n",
    "#alexnet = nn.DataParallel(alexnet)"
   ]
  },
  {
   "cell_type": "code",
   "execution_count": null,
   "metadata": {
    "colab": {
     "base_uri": "https://localhost:8080/",
     "height": 398
    },
    "id": "LLWdurj00d7d",
    "outputId": "b2ff89ae-54cf-4c50-b40a-a537b16357c4"
   },
   "outputs": [],
   "source": [
    "vgg16 = torchvision.models.vgg.vgg16(pretrained=True)\n",
    "\n",
    "# for param in vgg16.parameters():\n",
    "#     param.requires_grad = False\n",
    "num_features = vgg16.classifier[6].in_features\n",
    "print(num_features)\n",
    "vgg16.classifier[6] = nn.Sequential(\n",
    "                      nn.Linear(num_features, 4096*2), \n",
    "                      nn.ReLU(), \n",
    "                      nn.Linear(4096*2, 2048), \n",
    "                      nn.ReLU(), \n",
    "                      nn.Linear(2048, 512), \n",
    "                      nn.ReLU(), \n",
    "                      nn.Linear(512, 256), \n",
    "                      nn.ReLU(), \n",
    "                      nn.Linear(256, 101))\n",
    "vgg16.to(device)"
   ]
  },
  {
   "cell_type": "code",
   "execution_count": 3,
   "metadata": {},
   "outputs": [],
   "source": [
    "inception = torchvision.models.inception_v3(pretrained=True, aux_logits=False)\n",
    "\n",
    "for param in inception.parameters():\n",
    "    param.requires_grad = False\n",
    "\n",
    "num_ftrs = inception.fc.in_features\n",
    "inception.fc = nn.Sequential(\n",
    "                        nn.Dropout(0.7),\n",
    "                      nn.Linear(num_ftrs, 101))\n",
    "#                       nn.ReLU(), \n",
    "#                       nn.Linear(700, 500), \n",
    "#                       nn.ReLU(), \n",
    "#                       nn.Linear(500, 300), \n",
    "#                       nn.ReLU(), \n",
    "#                       nn.Linear(300, 101))\n",
    "\n",
    "inception.to(device)\n",
    "skip_ = 1\n"
   ]
  },
  {
   "cell_type": "code",
   "execution_count": null,
   "metadata": {},
   "outputs": [],
   "source": [
    "r50 = torchvision.models.resnet50(pretrained=True)\n",
    "num_ftrs = r50.fc.in_features\n",
    "for param in r50.parameters():\n",
    "    param.requires_grad = False\n",
    "\n",
    "# r50.fc =  nn.Sequential(\n",
    "#               nn.Linear(num_ftrs,1024),\n",
    "# #                 nn.GlobalAvgPooling(),\n",
    "# #                 nn.Dense()\n",
    "#               nn.ReLU(), \n",
    "#               nn.Linear(1024, 101))\n",
    "\n",
    "modules = list(r50.children())[:-1]\n",
    "r50 = nn.Sequential(*modules)\n",
    "r50.to(device)\n",
    "r50.eval()"
   ]
  },
  {
   "cell_type": "code",
   "execution_count": 3,
   "metadata": {
    "id": "ynlnHmOJ0d7e"
   },
   "outputs": [],
   "source": [
    "transform = transforms.Compose([\n",
    "                                #299\n",
    "                                # transforms.Resize(310),\n",
    "                                transforms.ColorJitter(brightness=0.5, contrast=0.5, saturation=0.5),\n",
    "                                transforms.RandomHorizontalFlip(),\n",
    "#                                 transforms.RandomVerticalFlip(),\n",
    "                                transforms.RandomRotation(30, fill=(220,220,220)),\n",
    "                                transforms.Resize(110),\n",
    "                                transforms.RandomCrop(100),\n",
    "                                transforms.ToTensor()])\n",
    "\n",
    "dataset = ImageFolder(path, transform=transform)\n",
    "split = DataSplit(dataset,test_train_split=0.9, val_train_split=0.1, shuffle=True)\n",
    "train_loader, val_loader, test_loader = split.get_split(batch_size=2048,num_workers=2)"
   ]
  },
  {
   "cell_type": "code",
   "execution_count": 4,
   "metadata": {},
   "outputs": [
    {
     "data": {
      "text/plain": [
       "<matplotlib.image.AxesImage at 0x7fd241f398e0>"
      ]
     },
     "execution_count": 4,
     "metadata": {},
     "output_type": "execute_result"
    },
    {
     "data": {
      "image/png": "[encoded data removed]",
      "text/plain": [
       "<Figure size 432x288 with 1 Axes>"
      ]
     },
     "metadata": {
      "needs_background": "light"
     },
     "output_type": "display_data"
    }
   ],
   "source": [
    "from matplotlib import pyplot as plt\n",
    "images = next(iter(train_loader))\n",
    "\n",
    "plt.imshow(np.transpose(images[0][1].numpy(), (1, 2, 0)))"
   ]
  },
  {
   "cell_type": "code",
   "execution_count": 14,
   "metadata": {
    "id": "1Mq80dv60d7e"
   },
   "outputs": [],
   "source": [
    "def loaderToFiles(loader, net, path):\n",
    "    n = 0\n",
    "    for img, label in loader:\n",
    "      features = net.features(img.to(device))\n",
    "      features_tensor = torch.from_numpy(features.to('cpu').detach().numpy())\n",
    "\n",
    "      folder_name = path + str(classes[label])\n",
    "      if not os.path.isdir(folder_name):\n",
    "        os.mkdir(folder_name)\n",
    "      torch.save(features_tensor.squeeze(0), folder_name + '/' + str(n) + '.tensor')\n",
    "      n += 1"
   ]
  },
  {
   "cell_type": "code",
   "execution_count": null,
   "metadata": {
    "id": "CPTkGQPX0d7f"
   },
   "outputs": [],
   "source": [
    "loaderToFiles(train_loader, vgg19,'./aimages/')"
   ]
  },
  {
   "cell_type": "code",
   "execution_count": null,
   "metadata": {
    "id": "FSF6yCWS0d7f"
   },
   "outputs": [],
   "source": [
    "loaderToFiles(test_loader, vgg19,'./taimages/')"
   ]
  },
  {
   "cell_type": "code",
   "execution_count": null,
   "metadata": {
    "id": "Xr2yKdIV0d7g"
   },
   "outputs": [],
   "source": [
    "loaderToFiles(val_loader, vgg19,'./vaimages/')"
   ]
  },
  {
   "cell_type": "code",
   "execution_count": 6,
   "metadata": {
    "id": "RsPSq_Ed0d7g"
   },
   "outputs": [],
   "source": [
    "def filesToLoader(path,batch_size=4096):\n",
    "#     transform = transforms.Compose([transforms.ToPILImage(),\n",
    "# #                                 transforms.Resize(256),\n",
    "# #                                 transforms.RandomCrop(224),\n",
    "#                                 transforms.ColorJitter(brightness=0.5),\n",
    "#                                 transforms.RandomHorizontalFlip(),\n",
    "#                                 transforms.RandomVerticalFlip(),\n",
    "#                                 transforms.RandomRotation(45),\n",
    "#                                 transforms.ToTensor()])\n",
    "    ds = torchvision.datasets.DatasetFolder(path, loader=torch.load, extensions=('.tensor'))\n",
    "    return torch.utils.data.DataLoader(ds, batch_size=batch_size, \n",
    "                                           num_workers=128, shuffle=True)\n"
   ]
  },
  {
   "cell_type": "code",
   "execution_count": null,
   "metadata": {
    "id": "ogIegg6V0d7h"
   },
   "outputs": [],
   "source": [
    "train_loader = filesToLoader('./aimages')\n",
    "val_loader = filesToLoader('./vaimages')\n",
    "test_loader = filesToLoader('./taimages')"
   ]
  },
  {
   "cell_type": "code",
   "execution_count": 4,
   "metadata": {
    "id": "lhzoC74b0d7h"
   },
   "outputs": [],
   "source": [
    "class BaselineModel(nn.Module):\n",
    "    def __init__(self):\n",
    "        super(BaselineModel, self).__init__()\n",
    "        self.name = \"base\"\n",
    "        self.l1 = nn.Linear(3*100*100, 4096)\n",
    "        self.l2 = nn.Linear(4096, 4096)\n",
    "        self.l3 = nn.Linear(4096, 512)\n",
    "        self.l4 = nn.Linear(512, 101)\n",
    "\n",
    "    def forward(self, x):\n",
    "        x.to(device)\n",
    "        x = torch.flatten(x, 1)\n",
    "        x = F.relu(self.l1(x))\n",
    "        x = F.relu(self.l2(x))\n",
    "        x = F.relu(self.l3(x))\n",
    "        x = self.l4(x)\n",
    "        return x"
   ]
  },
  {
   "cell_type": "code",
   "execution_count": 5,
   "metadata": {
    "id": "rMBEpH7C0d7h"
   },
   "outputs": [],
   "source": [
    "\n",
    "def train_net(net, optimizer, train_loader, val_loader, batch_size=64, learning_rate=0.001, num_epochs=30):\n",
    "    ########################################################################\n",
    "    # Fixed PyTorch random seed for reproducible result\n",
    "    torch.manual_seed(1000)\n",
    "    ########################################################################\n",
    "    # Define the Loss function and optimizer\n",
    "    criterion = nn.CrossEntropyLoss()\n",
    "    \n",
    "    # optimizer = optim.RMSprop(net.parameters(), lr=lr)\n",
    "    # optimizer = optim.RMSprop(net.parameters(), lr=lr)\n",
    "\n",
    "    ########################################################################\n",
    "    # Set up some numpy arrays to store the training/test loss/erruracy\n",
    "    train_acc = np.zeros(num_epochs)\n",
    "    train_loss = np.zeros(num_epochs)\n",
    "    val_acc = np.zeros(num_epochs)\n",
    "    val_loss = np.zeros(num_epochs)\n",
    "    ########################################################################\n",
    "    # Train the network\n",
    "    # Loop over the data iterator and sample a new batch of training data\n",
    "    # Get the output from the network, and optimize our loss function.\n",
    "    start_time = time.time()\n",
    "    i = 0\n",
    "    for epoch in range(num_epochs):  # loop over the dataset multiple times\n",
    "        total_train_loss = 0.0\n",
    "        total_acc = 0.0\n",
    "        total_epoch = 0\n",
    "        i += 1\n",
    "        for inputs, labels in iter(train_loader):\n",
    "\n",
    "            inputs = inputs.to(device)\n",
    "            labels = labels.to(device)\n",
    "#             with torch.no_grad():\n",
    "#                 inputs = vgg19.features(inputs)\n",
    "            # Zero the parameter gradients\n",
    "            optimizer.zero_grad()\n",
    "            # Forward pass, backward pass, and optimize\n",
    "            outputs = net(inputs)\n",
    "            \n",
    "            loss = criterion(outputs, labels)\n",
    "            loss.backward()\n",
    "            optimizer.step()\n",
    "            # Calculate the statistics\n",
    "            pred = outputs.data.max(1, keepdim=True)[1]\n",
    "            curr_correct = pred.eq(labels.data.view_as(pred)).sum()\n",
    "            total_acc += pred.eq(labels.data.view_as(pred)).sum()\n",
    "            total_train_loss += loss.item()\n",
    "            total_epoch += len(labels)\n",
    "        train_acc[epoch] = float(total_acc) / total_epoch\n",
    "        train_loss[epoch] = float(total_train_loss) / (i+1)\n",
    "        val_acc[epoch], val_loss[epoch] = evaluate(net, val_loader, criterion)\n",
    "        print((\"Epoch {}: Train acc: {:.4f}, Train loss: {:.6f} | \"+\n",
    "               \"Validation acc: {:.4f}, Validation loss: {:.6f}\").format(\n",
    "                   epoch + 1,\n",
    "                   train_acc[epoch]*100,\n",
    "                   train_loss[epoch],\n",
    "                   val_acc[epoch]*100,\n",
    "                   val_loss[epoch]))\n",
    "\n",
    "        model_path = get_model_name('baseline', batch_size, learning_rate, epoch)\n",
    "        if epoch % 10 == 0:\n",
    "            torch.save(net.state_dict(), model_path+\"_net\")\n",
    "            torch.save(optimizer.state_dict(), model_path+\"_opt\")\n",
    "            np.savetxt(\"{}_train_acc.csv\".format(epoch), train_acc)\n",
    "            np.savetxt(\"{}_train_loss.csv\".format(epoch), train_loss)\n",
    "            np.savetxt(\"{}_val_acc.csv\".format(epoch), val_acc)\n",
    "            np.savetxt(\"{}_val_loss.csv\".format(epoch), val_loss)\n",
    "\n",
    "    print('Finished Training')\n",
    "    end_time = time.time()\n",
    "    elapsed_time = end_time - start_time\n",
    "    print(\"Total time elapsed: {:.2f} seconds\".format(elapsed_time))\n",
    "    # Write the train/test loss/err into CSV file for plotting later\n",
    "    epochs = np.arange(1, num_epochs + 1)\n",
    "    np.savetxt(\"{}_train_acc.csv\".format(model_path), train_acc)\n",
    "    np.savetxt(\"{}_train_loss.csv\".format(model_path), train_loss)\n",
    "    np.savetxt(\"{}_val_acc.csv\".format(model_path), val_acc)\n",
    "    np.savetxt(\"{}_val_loss.csv\".format(model_path), val_loss)\n"
   ]
  },
  {
   "cell_type": "code",
   "execution_count": null,
   "metadata": {
    "colab": {
     "base_uri": "https://localhost:8080/",
     "height": 363
    },
    "id": "swUtZDGf0d7m",
    "outputId": "34bd483b-d7d2-47f6-fc38-4facc46bd634"
   },
   "outputs": [
    {
     "name": "stdout",
     "output_type": "stream",
     "text": [
      "Epoch 1: Train acc: 1.0292, Train loss: 9325.112262 | Validation acc: 1.0561, Validation loss: 4.616932\n",
      "Epoch 2: Train acc: 0.9644, Train loss: 61.568720 | Validation acc: 0.8581, Validation loss: 4.616627\n",
      "Epoch 3: Train acc: 0.9485, Train loss: 46.161030 | Validation acc: 0.9241, Validation loss: 4.616482\n",
      "Epoch 4: Train acc: 0.9388, Train loss: 36.926633 | Validation acc: 0.8361, Validation loss: 4.616528\n",
      "Epoch 5: Train acc: 1.0353, Train loss: 30.771620 | Validation acc: 0.8361, Validation loss: 4.616278\n"
     ]
    }
   ],
   "source": [
    "net = BaselineModel()\n",
    "net.to(device)\n",
    "# net.to(device)\n",
    "# 0.0001 2 7 12 16 18 19 21\n",
    "lr = 0.01\n",
    "# inception.load_state_dict(torch.load('./thirdmodel_vgg_bs512_lr0.0005_epoch20_net'))\n",
    "optimizer = optim.Adam(net.parameters(), lr=lr)\n",
    "# optimizer.load_state_dict(torch.load('./thirdmodel_vgg_bs512_lr0.0005_epoch20_opt'))\n",
    "# optimizer.param_groups[0]['weight_decay'] = 0.00001\n",
    "\n",
    "# for param_group in optimizer.param_groups:\n",
    "#     param_group['lr'] = lr\n",
    "\n",
    "# optim = checkpoint['optimizer']\n",
    "# net.train()\n",
    "train_net(net, optimizer, train_loader, val_loader, num_epochs=1000, batch_size=2048, learning_rate=lr)"
   ]
  },
  {
   "cell_type": "code",
   "execution_count": 7,
   "metadata": {},
   "outputs": [
    {
     "data": {
      "text/plain": [
       "(0.5831817000259942, 1.8133326098938618)"
      ]
     },
     "execution_count": 7,
     "metadata": {},
     "output_type": "execute_result"
    }
   ],
   "source": [
    "evaluate(net, test_loader, nn.CrossEntropyLoss())"
   ]
  },
  {
   "cell_type": "code",
   "execution_count": null,
   "metadata": {
    "id": "AbLcbQ_W0d7p",
    "outputId": "97d743ca-bbf3-439e-87e5-7580c429cba4"
   },
   "outputs": [
    {
     "data": {
      "text/plain": [
       "'miso_soup'"
      ]
     },
     "execution_count": 58,
     "metadata": {
      "tags": []
     },
     "output_type": "execute_result"
    }
   ],
   "source": [
    "loader = transforms.Compose([transforms.Resize((224,224)), transforms.ToTensor()])\n",
    "from PIL import Image\n",
    "\n",
    "def image_loader(image_name):\n",
    "    \"\"\"load image, returns cuda tensor\"\"\"\n",
    "    image = Image.open(image_name)\n",
    "    image = loader(image).float()\n",
    "    image = torch.autograd.Variable(image, requires_grad=True)\n",
    "    image = image.unsqueeze(0)  #this is for VGG, may not be needed for ResNet\n",
    "    return image.to(device)  #assumes that you're using GPU\n",
    "image = image_loader('/home/unx/Downloads/ms.jpg')\n",
    "#image = image_loader('/home/unx/Documents/360/pcode/food-101/images/miso_soup/705856.jpg')\n",
    "net.eval()\n",
    "net.to(device)\n",
    "ft =alexnet.features(image)\n",
    "out = net(ft)\n",
    "o = torch.max(out, 1)\n",
    "classes[o.indices.item()]"
   ]
  },
  {
   "cell_type": "code",
   "execution_count": null,
   "metadata": {
    "id": "I8KfMjrq0d7p"
   },
   "outputs": [],
   "source": [
    "\n"
   ]
  },
  {
   "cell_type": "code",
   "execution_count": null,
   "metadata": {
    "id": "6iw659Yp0d7p"
   },
   "outputs": [],
   "source": [
    "test_loader_f = []\n",
    "for i, data in enumerate(test_loader):\n",
    "  inputs, labels = data\n",
    "  t = alexnet.features(inputs.to(device))\n",
    "  t = torch.from_numpy(t.to('cpu').detach().numpy())\n",
    "  res = (t, labels)\n",
    "  f = open('./taimages/'+str(i),'wb')\n",
    "  pickle.dump(res, f)\n",
    "  f.close()"
   ]
  },
  {
   "cell_type": "code",
   "execution_count": null,
   "metadata": {
    "id": "jFcWYRpr0d7q",
    "outputId": "096ee9b1-3b7c-4014-9f1e-dc5c33a7e733"
   },
   "outputs": [],
   "source": [
    "def get_acc(loader_):\n",
    "  total = 0\n",
    "  total_corr = 0\n",
    "  for i, data in enumerate(loader_, 0):\n",
    "    # Get the inputs\n",
    "    inputs, labels = data\n",
    "    labels = labels.to(device)\n",
    "    total+=len(labels)\n",
    "    outputs = net(inputs.to(device))\n",
    "    pred = outputs.data.max(1, keepdim=True)[1]\n",
    "    curr_correct = pred.eq(labels.data.view_as(pred)).sum().item()\n",
    "    total_corr += curr_correct\n",
    "  return total_corr/total\n",
    "for i in range(19):\n",
    "    f = open('./taimages/'+str(i),'rb')\n",
    "    t = pickle.load(f)\n",
    "    test_loader_f.append(t)\n",
    "get_acc(test_loader_f)"
   ]
  },
  {
   "cell_type": "code",
   "execution_count": null,
   "metadata": {
    "id": "3IgUWaPj0d7q"
   },
   "outputs": [],
   "source": []
  }
 ],
 "metadata": {
  "accelerator": "GPU",
  "colab": {
   "name": "main.ipynb",
   "provenance": []
  },
  "kernelspec": {
   "display_name": "firstEnv",
   "language": "python",
   "name": "firstenv"
  },
  "language_info": {
   "codemirror_mode": {
    "name": "ipython",
    "version": 3
   },
   "file_extension": ".py",
   "mimetype": "text/x-python",
   "name": "python",
   "nbconvert_exporter": "python",
   "pygments_lexer": "ipython3",
   "version": "3.9.2"
  },
  "widgets": {
   "application/vnd.jupyter.widget-state+json": {
    "0c4e5421bf164c9fafe3aaa68a0de580": {
     "model_module": "@jupyter-widgets/controls",
     "model_name": "HBoxModel",
     "state": {
      "_dom_classes": [],
      "_model_module": "@jupyter-widgets/controls",
      "_model_module_version": "1.5.0",
      "_model_name": "HBoxModel",
      "_view_count": null,
      "_view_module": "@jupyter-widgets/controls",
      "_view_module_version": "1.5.0",
      "_view_name": "HBoxView",
      "box_style": "",
      "children": [
       "IPY_MODEL_5b07559c5b804290a2ababe919d843f1",
       "IPY_MODEL_281222b9e3d64b448f8c8679d30dfe56"
      ],
      "layout": "IPY_MODEL_d5d45f6c670b4dca958096e8a6f0d340"
     }
    },
    "11af445107974deb8ebc3b46085db5df": {
     "model_module": "@jupyter-widgets/controls",
     "model_name": "ProgressStyleModel",
     "state": {
      "_model_module": "@jupyter-widgets/controls",
      "_model_module_version": "1.5.0",
      "_model_name": "ProgressStyleModel",
      "_view_count": null,
      "_view_module": "@jupyter-widgets/base",
      "_view_module_version": "1.2.0",
      "_view_name": "StyleView",
      "bar_color": null,
      "description_width": "initial"
     }
    },
    "281222b9e3d64b448f8c8679d30dfe56": {
     "model_module": "@jupyter-widgets/controls",
     "model_name": "HTMLModel",
     "state": {
      "_dom_classes": [],
      "_model_module": "@jupyter-widgets/controls",
      "_model_module_version": "1.5.0",
      "_model_name": "HTMLModel",
      "_view_count": null,
      "_view_module": "@jupyter-widgets/controls",
      "_view_module_version": "1.5.0",
      "_view_name": "HTMLView",
      "description": "",
      "description_tooltip": null,
      "layout": "IPY_MODEL_a512914b11fe4e3c913d447d80052a0c",
      "placeholder": "​",
      "style": "IPY_MODEL_822effb14bd44d169c59864c8b53c499",
      "value": " 233M/233M [00:14&lt;00:00, 16.8MB/s]"
     }
    },
    "2947211387a74e489fd56b818ce5a1f3": {
     "model_module": "@jupyter-widgets/base",
     "model_name": "LayoutModel",
     "state": {
      "_model_module": "@jupyter-widgets/base",
      "_model_module_version": "1.2.0",
      "_model_name": "LayoutModel",
      "_view_count": null,
      "_view_module": "@jupyter-widgets/base",
      "_view_module_version": "1.2.0",
      "_view_name": "LayoutView",
      "align_content": null,
      "align_items": null,
      "align_self": null,
      "border": null,
      "bottom": null,
      "display": null,
      "flex": null,
      "flex_flow": null,
      "grid_area": null,
      "grid_auto_columns": null,
      "grid_auto_flow": null,
      "grid_auto_rows": null,
      "grid_column": null,
      "grid_gap": null,
      "grid_row": null,
      "grid_template_areas": null,
      "grid_template_columns": null,
      "grid_template_rows": null,
      "height": null,
      "justify_content": null,
      "justify_items": null,
      "left": null,
      "margin": null,
      "max_height": null,
      "max_width": null,
      "min_height": null,
      "min_width": null,
      "object_fit": null,
      "object_position": null,
      "order": null,
      "overflow": null,
      "overflow_x": null,
      "overflow_y": null,
      "padding": null,
      "right": null,
      "top": null,
      "visibility": null,
      "width": null
     }
    },
    "5b07559c5b804290a2ababe919d843f1": {
     "model_module": "@jupyter-widgets/controls",
     "model_name": "FloatProgressModel",
     "state": {
      "_dom_classes": [],
      "_model_module": "@jupyter-widgets/controls",
      "_model_module_version": "1.5.0",
      "_model_name": "FloatProgressModel",
      "_view_count": null,
      "_view_module": "@jupyter-widgets/controls",
      "_view_module_version": "1.5.0",
      "_view_name": "ProgressView",
      "bar_style": "success",
      "description": "100%",
      "description_tooltip": null,
      "layout": "IPY_MODEL_2947211387a74e489fd56b818ce5a1f3",
      "max": 244418560,
      "min": 0,
      "orientation": "horizontal",
      "style": "IPY_MODEL_11af445107974deb8ebc3b46085db5df",
      "value": 244418560
     }
    },
    "822effb14bd44d169c59864c8b53c499": {
     "model_module": "@jupyter-widgets/controls",
     "model_name": "DescriptionStyleModel",
     "state": {
      "_model_module": "@jupyter-widgets/controls",
      "_model_module_version": "1.5.0",
      "_model_name": "DescriptionStyleModel",
      "_view_count": null,
      "_view_module": "@jupyter-widgets/base",
      "_view_module_version": "1.2.0",
      "_view_name": "StyleView",
      "description_width": ""
     }
    },
    "a512914b11fe4e3c913d447d80052a0c": {
     "model_module": "@jupyter-widgets/base",
     "model_name": "LayoutModel",
     "state": {
      "_model_module": "@jupyter-widgets/base",
      "_model_module_version": "1.2.0",
      "_model_name": "LayoutModel",
      "_view_count": null,
      "_view_module": "@jupyter-widgets/base",
      "_view_module_version": "1.2.0",
      "_view_name": "LayoutView",
      "align_content": null,
      "align_items": null,
      "align_self": null,
      "border": null,
      "bottom": null,
      "display": null,
      "flex": null,
      "flex_flow": null,
      "grid_area": null,
      "grid_auto_columns": null,
      "grid_auto_flow": null,
      "grid_auto_rows": null,
      "grid_column": null,
      "grid_gap": null,
      "grid_row": null,
      "grid_template_areas": null,
      "grid_template_columns": null,
      "grid_template_rows": null,
      "height": null,
      "justify_content": null,
      "justify_items": null,
      "left": null,
      "margin": null,
      "max_height": null,
      "max_width": null,
      "min_height": null,
      "min_width": null,
      "object_fit": null,
      "object_position": null,
      "order": null,
      "overflow": null,
      "overflow_x": null,
      "overflow_y": null,
      "padding": null,
      "right": null,
      "top": null,
      "visibility": null,
      "width": null
     }
    },
    "d5d45f6c670b4dca958096e8a6f0d340": {
     "model_module": "@jupyter-widgets/base",
     "model_name": "LayoutModel",
     "state": {
      "_model_module": "@jupyter-widgets/base",
      "_model_module_version": "1.2.0",
      "_model_name": "LayoutModel",
      "_view_count": null,
      "_view_module": "@jupyter-widgets/base",
      "_view_module_version": "1.2.0",
      "_view_name": "LayoutView",
      "align_content": null,
      "align_items": null,
      "align_self": null,
      "border": null,
      "bottom": null,
      "display": null,
      "flex": null,
      "flex_flow": null,
      "grid_area": null,
      "grid_auto_columns": null,
      "grid_auto_flow": null,
      "grid_auto_rows": null,
      "grid_column": null,
      "grid_gap": null,
      "grid_row": null,
      "grid_template_areas": null,
      "grid_template_columns": null,
      "grid_template_rows": null,
      "height": null,
      "justify_content": null,
      "justify_items": null,
      "left": null,
      "margin": null,
      "max_height": null,
      "max_width": null,
      "min_height": null,
      "min_width": null,
      "object_fit": null,
      "object_position": null,
      "order": null,
      "overflow": null,
      "overflow_x": null,
      "overflow_y": null,
      "padding": null,
      "right": null,
      "top": null,
      "visibility": null,
      "width": null
     }
    }
   }
  }
 },
 "nbformat": 4,
 "nbformat_minor": 4
}
